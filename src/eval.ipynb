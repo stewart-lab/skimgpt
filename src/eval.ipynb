{
 "cells": [
  {
   "cell_type": "code",
   "execution_count": 4,
   "id": "b4b9443a",
   "metadata": {},
   "outputs": [],
   "source": [
    "import pandas as pd\n",
    "import numpy as np\n",
    "import sys\n",
    "sys.path.insert(0, \"/w5home/lxu3/anaconda3/lib/python3.11/site-packages/\")\n",
    "from sklearn.metrics import accuracy_score, precision_score, recall_score, f1_score"
   ]
  },
  {
   "cell_type": "code",
   "execution_count": 8,
   "id": "bfd4c662",
   "metadata": {},
   "outputs": [],
   "source": [
    "base_path = \"/w5home/lxu3/kmGPT/relevance_tests/eval_20240606095504/filtered\""
   ]
  },
  {
   "cell_type": "code",
   "execution_count": 9,
   "id": "20758c91",
   "metadata": {},
   "outputs": [],
   "source": [
    "y = []\n",
    "y_hat = []"
   ]
  },
  {
   "cell_type": "code",
   "execution_count": 10,
   "id": "d3220ad1",
   "metadata": {},
   "outputs": [],
   "source": [
    "for i in range(11):\n",
    "    a = pd.read_csv(f\"{base_path}/filtered_{i}.tsv\", sep = \"\\t\")\n",
    "    labels = eval(a[\"ab_relevance_labels\"][0]) + eval(a[\"bc_relevance_labels\"][0])\n",
    "    preds = eval(a[\"ab_mask\"][0]) + eval(a[\"bc_mask\"][0])\n",
    "    \n",
    "    if len(a.ac_pmid_intersection.value_counts()) > 0:\n",
    "        labels += eval(a[\"ac_labels\"][0])\n",
    "        preds += eval(a[\"ac_mask\"][0])\n",
    "    \n",
    "    \n",
    "    y.extend(labels)\n",
    "    y_hat.extend(preds)"
   ]
  },
  {
   "cell_type": "code",
   "execution_count": 11,
   "id": "a78b21bb",
   "metadata": {},
   "outputs": [
    {
     "data": {
      "text/plain": [
       "0.8671328671328671"
      ]
     },
     "execution_count": 11,
     "metadata": {},
     "output_type": "execute_result"
    }
   ],
   "source": [
    "accuracy_score(y, y_hat)"
   ]
  },
  {
   "cell_type": "code",
   "execution_count": 12,
   "id": "53a3c14f",
   "metadata": {},
   "outputs": [
    {
     "data": {
      "text/plain": [
       "0.8811881188118812"
      ]
     },
     "execution_count": 12,
     "metadata": {},
     "output_type": "execute_result"
    }
   ],
   "source": [
    "precision_score(y, y_hat)"
   ]
  },
  {
   "cell_type": "code",
   "execution_count": 13,
   "id": "ebe16e77",
   "metadata": {},
   "outputs": [
    {
     "data": {
      "text/plain": [
       "0.9270833333333334"
      ]
     },
     "execution_count": 13,
     "metadata": {},
     "output_type": "execute_result"
    }
   ],
   "source": [
    "recall_score(y, y_hat)"
   ]
  },
  {
   "cell_type": "code",
   "execution_count": 14,
   "id": "83d3a217",
   "metadata": {},
   "outputs": [
    {
     "data": {
      "text/plain": [
       "0.9035532994923858"
      ]
     },
     "execution_count": 14,
     "metadata": {},
     "output_type": "execute_result"
    }
   ],
   "source": [
    "f1_score(y, y_hat)"
   ]
  },
  {
   "cell_type": "code",
   "execution_count": null,
   "id": "5b0cf127",
   "metadata": {},
   "outputs": [],
   "source": []
  }
 ],
 "metadata": {
  "kernelspec": {
   "display_name": "Python 3 (ipykernel)",
   "language": "python",
   "name": "python3"
  },
  "language_info": {
   "codemirror_mode": {
    "name": "ipython",
    "version": 3
   },
   "file_extension": ".py",
   "mimetype": "text/x-python",
   "name": "python",
   "nbconvert_exporter": "python",
   "pygments_lexer": "ipython3",
   "version": "3.11.3"
  }
 },
 "nbformat": 4,
 "nbformat_minor": 5
}
