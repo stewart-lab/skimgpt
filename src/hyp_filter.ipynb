{
 "cells": [
  {
   "cell_type": "markdown",
   "metadata": {},
   "source": [
    "# Setup"
   ]
  },
  {
   "cell_type": "code",
   "execution_count": 1,
   "metadata": {},
   "outputs": [
    {
     "name": "stderr",
     "output_type": "stream",
     "text": [
      "/w5home/lxu3/anaconda3/envs/kmGPT/lib/python3.11/site-packages/tqdm/auto.py:21: TqdmWarning: IProgress not found. Please update jupyter and ipywidgets. See https://ipywidgets.readthedocs.io/en/stable/user_install.html\n",
      "  from .autonotebook import tqdm as notebook_tqdm\n"
     ]
    }
   ],
   "source": [
    "import transformers\n",
    "import numpy as np\n",
    "import torch\n",
    "import get_pubmed_text as pmidUtils\n",
    "import json"
   ]
  },
  {
   "cell_type": "code",
   "execution_count": 2,
   "metadata": {},
   "outputs": [],
   "source": [
    "x = [\"23956253\", \"23444397\", \"28886926\", \"27701660\", \"19095139\", \"21095263\"]"
   ]
  },
  {
   "cell_type": "code",
   "execution_count": 3,
   "metadata": {},
   "outputs": [],
   "source": [
    "with open(\"../config.json\", \"r\") as f:\n",
    "\tconfig = json.load(f)"
   ]
  },
  {
   "cell_type": "code",
   "execution_count": 15,
   "metadata": {},
   "outputs": [
    {
     "name": "stderr",
     "output_type": "stream",
     "text": [
      "Loading checkpoint shards: 100%|██████████| 2/2 [00:04<00:00,  2.01s/it]\n",
      "generation_config.json: 100%|██████████| 116/116 [00:00<00:00, 323kB/s]\n"
     ]
    }
   ],
   "source": [
    "from transformers import AutoModelForCausalLM, AutoTokenizer\n",
    "model = AutoModelForCausalLM.from_pretrained(\"mistralai/Mistral-7B-Instruct-v0.1\")\n"
   ]
  },
  {
   "cell_type": "code",
   "execution_count": 5,
   "metadata": {},
   "outputs": [],
   "source": [
    "#%%\n",
    "abstracts = np.array(pmidUtils.process_abstracts_data(config, x))"
   ]
  },
  {
   "cell_type": "markdown",
   "metadata": {},
   "source": [
    "# Grab Predictions & Test"
   ]
  },
  {
   "cell_type": "markdown",
   "metadata": {},
   "source": [
    "## Zero-Shot Performance"
   ]
  },
  {
   "cell_type": "code",
   "execution_count": 10,
   "metadata": {},
   "outputs": [],
   "source": [
    "# test_prompt = f\"\"\"\n",
    "# \tAssessment Task:\n",
    "# \tConduct a through analysis of the provided biomedical abstract, and determine whether the text is relevant for evaluating the given hypothesis.\n",
    "#     Consider the quality of the research, the relevance of the findings to the hypothesis, and the presence of any limitations or conflicting\n",
    "#     evidence in your evaluation. \n",
    "    \n",
    "#     Hypothesis:\n",
    "#     Ezetimibe may effectively alleviate or target key pathogenic mechanisms of diabetes potentially offering therapeutic benefits or slowing disease progression.\n",
    "    \n",
    "#     Biomedical Abstract for Analysis:\n",
    "#     {abstracts[0][0]}\n",
    "    \n",
    "# \tFormat your response as:\n",
    "# \tScore: [Number] - Reasoning: [Reasoning]\n",
    "#     Scoring Guidelines:\n",
    "# \t\t- 0: The abstract is not relevant and provides minimal useful information towards evaluating the given hypothesis.\n",
    "# \t\t- 1: The abstract provides is relevant to the hypothesis and provides useful information towards evaluating the given hypothesis.\n",
    "# \"\"\"\n",
    "test_prompt = f\"\"\"\n",
    "\tIs the hypothesis and provided abstract relevant for evaluating the accuracy of the hypothesis?\n",
    " \n",
    "    Hypothesis:\n",
    "    Ezetimibe may effectively alleviate or target key pathogenic mechanisms of diabetes potentially offering therapeutic benefits or slowing disease progression.\n",
    "    \n",
    "    Biomedical Abstract for Analysis:\n",
    "    {abstracts[0][0]}\n",
    "\"\"\""
   ]
  },
  {
   "cell_type": "code",
   "execution_count": 11,
   "metadata": {},
   "outputs": [],
   "source": [
    "tokenizer = AutoTokenizer.from_pretrained(\"mistralai/Mistral-7B-Instruct-v0.1\")"
   ]
  },
  {
   "cell_type": "code",
   "execution_count": 13,
   "metadata": {},
   "outputs": [],
   "source": [
    "inputs = tokenizer(test_prompt, return_tensors=\"pt\")"
   ]
  },
  {
   "cell_type": "code",
   "execution_count": 16,
   "metadata": {},
   "outputs": [
    {
     "name": "stderr",
     "output_type": "stream",
     "text": [
      "Setting `pad_token_id` to `eos_token_id`:2 for open-end generation.\n",
      "/w5home/lxu3/anaconda3/envs/kmGPT/lib/python3.11/site-packages/transformers/generation/utils.py:1133: UserWarning: Using the model-agnostic default `max_length` (=20) to control the generation length. We recommend setting `max_new_tokens` to control the maximum length of the generation.\n",
      "  warnings.warn(\n",
      "/w5home/lxu3/anaconda3/envs/kmGPT/lib/python3.11/site-packages/transformers/generation/utils.py:1141: UserWarning: Input length of input_ids is 595, but `max_length` is set to 20. This can lead to unexpected behavior. You should consider increasing `max_new_tokens`.\n",
      "  warnings.warn(\n"
     ]
    }
   ],
   "source": [
    "output = model.generate(**inputs, do_sample = True)"
   ]
  },
  {
   "cell_type": "code",
   "execution_count": 17,
   "metadata": {},
   "outputs": [
    {
     "data": {
      "text/plain": [
       "tensor([[    1, 28705,    13,    12,  2301,   272, 23592,   304,  3857, 11576,\n",
       "          8598,   354,  6548,  1077,   272, 13252,   302,   272, 23592, 28804,\n",
       "            13, 28705,    13,  2287,   382,  1416,  6317,   278, 28747,    13,\n",
       "          2287,   413, 11456,   321, 17193,   993, 11466,   389,  2303, 13713,\n",
       "           442,  2718,  1945,  2439,  8371,   294, 23400,   302, 22794, 13957,\n",
       "          9055,  7454, 25334,   294,  7196,   442,  3944,   288,  8030,  5097,\n",
       "           296, 28723,    13,   260,    13,  2287,  6345, 16812,   745, 14372,\n",
       "           354, 19442, 28747,    13,  2287,  9632,  1138, 28747, 28705, 28750,\n",
       "         28770, 28774, 28782, 28784, 28750, 28782, 28770,  7379, 28747,   415,\n",
       "           907,  6503,   403,   298,  3190,  1944, 15627,   272, 11125,   298,\n",
       "           690,  3923,   505, 11503,   338,  4721,   360,  4362,   366,   515,\n",
       "           325, 28765, 28769, 28731,   349,   916,  5605,  3450,  2352,   304,\n",
       "           916,  4110,   601, 28723,   415,  1676,  6503,   403,   298,  3084,\n",
       "         15988,   354, 23191,   304,  5827,   302,   401, 28769, 28725,   297,\n",
       "          1745,   298,  5297, 18167,   628,  3031,  8030,   325,  2305, 28757,\n",
       "           609,  4529,   272, 18492, 11909, 25371,   636,   302, 28705, 28740,\n",
       "         28748, 28782, 28734, 28734,   354, 23402, 28709,  2140, 28721,   607,\n",
       "           401, 28769, 28725,   523, 28740, 28823,   460, 26629,   297,  1080,\n",
       "          5780, 28723, 27186, 28725,  1863, 23191,   297,   264, 12781,  6392,\n",
       "          2952,  4889, 26629, 10870, 28705, 28740, 28748, 28750, 28734, 28734,\n",
       "           395, 23402, 28709,  2140, 28721,   607,   401, 28769, 28723,  1682,\n",
       "          5745,  7193,  3248,  7719,   298,  6619, 11572,   393, 14148,   484,\n",
       "          4721,   360,   328, 13728,   297,   264,  2475, 19938,   302,  6992,\n",
       "           395,   401, 28769, 28725,   304,   582,   298, 28705, 28740, 28770,\n",
       "         28733, 13943,  7483,  4623,   302,  6523, 28757, 28723, 17158,   356,\n",
       "         25371,  2119,  1444, 28705, 28740, 28748, 28782, 28734, 28734,   304,\n",
       "         28705, 28740, 28748, 28750, 28734, 28734, 28725,  1444, 28705, 28740,\n",
       "         28781,   304, 28705, 28770, 28781,  3841,  6992, 15245,   506,   401,\n",
       "         28769, 28723,   816,  6557,   369,  2436, 28725, 12111, 28725,   304,\n",
       "          6812,  1023,   347,  4921,   286,   354,   401, 28769,   513,   264,\n",
       "          1338,   442,  2005,  4292, 15890,   395,   401, 28769, 28725,   264,\n",
       "         28141,   484,  4721,   360,   328,  2184,   297,   396,  6555, 28705,\n",
       "         29902, 28783,  6020,   328, 28748, 28758, 28732, 29902, 28770, 28740,\n",
       "         28734, 18144, 28748, 28715, 28758, 28731,   442,   264,  1502, 28705,\n",
       "         29902, 28784,  6020,   328, 28748, 28758, 28732, 29902, 28750, 28770,\n",
       "         28734, 18144, 28748, 28715, 28758,   557,  5146,  1373,  6523, 28757,\n",
       "         28725,  6273,   266,  1318, 12344, 23856, 28725,   442,  5302,  5146,\n",
       "          1373,  4148, 14480,  3168, 28723,   560,   401, 28769, 28725,  2859,\n",
       "         28733, 26753, 11144,   410,  4239,   262,   484,  4721,   360,   328,\n",
       "         13728,   460,   523, 28770, 28723, 28782,  6020,   328, 28748, 28758,\n",
       "         28732, 28789, 28740, 28770, 28782, 18144, 28748, 28715, 28758, 28731,\n",
       "           354,  2436, 28725,   523, 28750, 28723, 28782,  6020,   328, 28748,\n",
       "         28758, 28732, 28789, 28740, 28734, 28734, 18144, 28748, 28715, 28758,\n",
       "         28731,   354, 12111, 28725,   304,   523, 28740, 28723, 28783,  6020,\n",
       "           328, 28748, 28758, 28732, 28789, 28787, 28734, 18144, 28748, 28715,\n",
       "         28758, 28731,   354, 12111,   395,  2651,  6523, 28757,   442, 22794,\n",
       "         28723,   560,  4518,   298, 16218,   304,  9751,   628,  1902, 24943,\n",
       "         28725,  5827, 28231,   460,   325, 28710, 28731,   297,  2436, 28725,\n",
       "           765,  1126, 28725,   317, 11456,   321, 17193, 28725,   304,   287,\n",
       "           546, 14433, 15662,   605,  1126, 28725,   304,   325,  2773, 28731,\n",
       "           297, 12111, 28725, 26596,  2513,   308,   765,   262, 20222, 28725,\n",
       "           317, 11456,   321, 17193, 28725,   304,   287,   546, 14433, 15662,\n",
       "           605,  1126, 28723, 24137,   410,  4239,   262,   979,   663, 14699,\n",
       "           541,   347,  6373,   297,  3153, 28709,  2140, 28721,  4769,   304,\n",
       "           297,  5827, 28733,   411, 11143, 23402, 28709,  2140, 28721,  4769,\n",
       "           395,  6523, 28757, 28723,   451,  9988,   298, 13645,   916,  5605,\n",
       "          3450,  9795,   304, 16353,   836,   466,   302,   401, 28769, 28725,\n",
       "           736,   349,   396, 25976, 15245,   927,   354, 23360, 23191,  2553,\n",
       "           395,  2935,   304, 18925,  5827,   302,   456,  7625,  1486, 28733,\n",
       "         28712,  2606,  4644, 28723,    13,   260]])"
      ]
     },
     "execution_count": 17,
     "metadata": {},
     "output_type": "execute_result"
    }
   ],
   "source": [
    "output"
   ]
  },
  {
   "cell_type": "code",
   "execution_count": 18,
   "metadata": {},
   "outputs": [
    {
     "data": {
      "text/plain": [
       "['<s> \\n\\tIs the hypothesis and provided abstract relevant for evaluating the accuracy of the hypothesis?\\n \\n    Hypothesis:\\n    Ezetimibe may effectively alleviate or target key pathogenic mechanisms of diabetes potentially offering therapeutic benefits or slowing disease progression.\\n    \\n    Biomedical Abstract for Analysis:\\n    PMID: 23956253 Text: The first aim was to critically evaluate the extent to which familial hypercholesterolaemia (FH) is underdiagnosed and undertreated. The second aim was to provide guidance for screening and treatment of FH, in order to prevent coronary heart disease (CHD). Of the theoretical estimated prevalence of 1/500 for heterozygous FH, <1% are diagnosed in most countries. Recently, direct screening in a Northern European general population diagnosed approximately 1/200 with heterozygous FH. All reported studies document failure to achieve recommended LDL cholesterol targets in a large proportion of individuals with FH, and up to 13-fold increased risk of CHD. Based on prevalences between 1/500 and 1/200, between 14 and 34 million individuals worldwide have FH. We recommend that children, adults, and families should be screened for FH if a person or family member presents with FH, a plasma cholesterol level in an adult ≥8 mmol/L(≥310 mg/dL) or a child ≥6 mmol/L(≥230 mg/dL), premature CHD, tendon xanthomas, or sudden premature cardiac death. In FH, low-density lipoprotein cholesterol targets are <3.5 mmol/L(<135 mg/dL) for children, <2.5 mmol/L(<100 mg/dL) for adults, and <1.8 mmol/L(<70 mg/dL) for adults with known CHD or diabetes. In addition to lifestyle and dietary counselling, treatment priorities are (i) in children, statins, ezetimibe, and bile acid binding resins, and (ii) in adults, maximal potent statin dose, ezetimibe, and bile acid binding resins. Lipoprotein apheresis can be offered in homozygotes and in treatment-resistant heterozygotes with CHD. Owing to severe underdiagnosis and undertreatment of FH, there is an urgent worldwide need for diagnostic screening together with early and aggressive treatment of this extremely high-risk condition.\\n    ']"
      ]
     },
     "execution_count": 18,
     "metadata": {},
     "output_type": "execute_result"
    }
   ],
   "source": [
    "tokenizer.batch_decode(output)"
   ]
  },
  {
   "cell_type": "markdown",
   "metadata": {},
   "source": [
    "## High Dimenstional Clusters?"
   ]
  },
  {
   "cell_type": "code",
   "execution_count": null,
   "metadata": {},
   "outputs": [],
   "source": []
  },
  {
   "cell_type": "markdown",
   "metadata": {},
   "source": [
    "## Fine-Tuned Model"
   ]
  },
  {
   "cell_type": "markdown",
   "metadata": {},
   "source": []
  }
 ],
 "metadata": {
  "kernelspec": {
   "display_name": "kmGPT",
   "language": "python",
   "name": "python3"
  },
  "language_info": {
   "codemirror_mode": {
    "name": "ipython",
    "version": 3
   },
   "file_extension": ".py",
   "mimetype": "text/x-python",
   "name": "python",
   "nbconvert_exporter": "python",
   "pygments_lexer": "ipython3",
   "version": "3.11.3"
  }
 },
 "nbformat": 4,
 "nbformat_minor": 2
}
